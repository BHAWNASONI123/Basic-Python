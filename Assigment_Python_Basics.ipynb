{
  "nbformat": 4,
  "nbformat_minor": 0,
  "metadata": {
    "colab": {
      "provenance": []
    },
    "kernelspec": {
      "name": "python3",
      "display_name": "Python 3"
    },
    "language_info": {
      "name": "python"
    }
  },
  "cells": [
    {
      "cell_type": "code",
      "execution_count": null,
      "metadata": {
        "id": "RPsuEBP5jLBh"
      },
      "outputs": [],
      "source": [
        "# Que 1- what is python and why is it popular?\n",
        "# Ans #  Python is a high-level, general-purpose programming language created by Guido van Rossum in 1991.\n",
        "      #  Its syntax is clean and resembles plain English, making it easy to read and write.\n",
        "      #  It is used in various fields, including: Web development,data analysis,AI,Scientific computing,Game development.\n",
        "      #  Cross-Platform: Runs on multiple operating systems like Windows, macOS, and Linux.\n",
        "      #  Popular in Trending Fields: Widely used in areas like AI, ML, and data science, which are in high demand.\n",
        "\n",
        "# Que 2-  What is an interpreter in python ?\n",
        "# Ans  -  Python's interpreter supports dynamic execution, meaning it processes code at runtime instead of creating a separate compiled file.\n",
        "\n",
        "# Que 2-  What is an interpreter in python ?\n",
        "# Ans  -  Python's interpreter supports dynamic execution, meaning it processes code at runtime instead of creating a separate compiled file.\n",
        "\n",
        "# Que 3-  What are pre-defined keywords in Python ?\n",
        "# Ans  -  pre-defined keywords in Python are reserved words that have specific meanings There are some examples.and: Logical AND operator.\n",
        "\n",
        "# or: Logical OR operator.\n",
        "# not: Logical NOT operator.\n",
        "# if: Conditional statement.\n",
        "# else: Executes if the condition in the if statement is false.\n",
        "# elif: Else if – checks another condition if the previous one is false.\n",
        "# for: Looping construct.\n",
        "# while: Looping construct based on a condition.\n",
        "# break: Exits the loop prematurely.\n",
        "\n",
        "# Que 4-  Can keywords be used as variable names ?\n",
        "# Ans  -  No keywords cannot be used as variable names in Python.\n",
        "         # This is because they are reserved words in the Python programming language with specific meanings and purposes in the syntax.\n",
        "         # Using them as variable names would cause errors in your code\n",
        "\n",
        "# Que 4-  What is mutability in Python ?\n",
        "# Ans  - # Mutability: Mutable objects are objects whose value can be changed after creation.\n",
        "\n",
        "# Que 5-  What is mutability in Python ?\n",
        "# Ans  -  Mutability: Mutable objects are objects whose value can be changed after creation.\n",
        "\n",
        "# Que 6-  Why are lists mutable, but tuples are immutable ?\n",
        "# Ans  - Lists are designed to be flexible and modifiable. They allow adding, removing, or changing elements after their creation.\n",
        "#      - Tuples are designed to represent collections of data that shouldn't change, such as coordinates or configuration values.\n",
        "\n",
        "# Que 7-  What is the difference between “==” and “is” operators in Python ?\n",
        "# Ans  - == checks if values are the same.\n",
        "#         is checks if two variables point to the same object in memory.\n",
        "\n",
        "# Que 8-  What are logical operators in Python?\n",
        "# Ans  - In Python, logical operators are used to combine conditional statements. The main logical operators are:\n",
        "\n",
        "#and – Returns True if both conditions are True.\n",
        "#or – Returns True if at least one of the conditions is True.\n",
        "#not – Reverses the result, returns True if the condition is False and vice versa.\n",
        "\n",
        "# Que 9-  What is type casting in Python?\n",
        "# Ans  -  Type casting (or Type Conversion) in Python is the process of converting one data type into another manually..\n",
        "\n",
        "# Que 10-  What is the difference between implicit and explicit type casting?\n",
        "# Ans  - Implicit Casting: Automatically done by Python when needed.\n",
        "#        Explicit Casting: Done manually using functions like int(), float(), str(), etc.\n",
        "\n",
        "# Que 11-  What is the purpose of conditional statements in Python?\n",
        "# Ans  -   Purpose: Conditional statements enable a program to make decisions and execute different code blocks based on conditions.\n",
        "#          Common Statements: if, else, and elif are used for decision-making and controlling program flow.\n",
        "\n",
        "# Que 12-  How does the elif statement work?\n",
        "# Ans  -   f-elif-else statement: Checks multiple conditions sequentially.\n",
        "\n",
        "# if-elif-else statement syntax:\n",
        "# if conditioncheck1:\n",
        "#     do this\n",
        "#     do this\n",
        "# elif conditioncheck2:\n",
        "#     do this\n",
        "#     do this\n",
        "# elif conditioncheck3:\n",
        "#     do this\n",
        "#     do this\n",
        "# else:\n",
        "#     do this\n",
        "#     do this\n",
        "\n",
        "# Movie Ticket Pricing System\n",
        "\n",
        "# Que 13 - What is the difference between for and while loops?\n",
        "# Ans  -    A loop is used for executing a block of statements repeatedly until a particular condition is satisfied.\n",
        "#           There are two types of loops:\n",
        "#           for loop: Best when you know how many times you want to iterate (like looping through a list or range).\n",
        "#           while loop: Best when you need to repeat something as long as a certain condition is True.\n",
        "\n",
        "# Que 14 - Describe a scenario where a while loop is more suitable than a for loop.\n",
        "# Ans  -    Imagine you're building a program that repeatedly asks the user for their password until they enter the correct one. You don’t know how many attempts the user will need, so a while loop is more suitable in this case.\n"
      ]
    },
    {
      "cell_type": "code",
      "source": [
        "                                      #Practical Questions\n"
      ],
      "metadata": {
        "id": "pxemBQ2_8qEr"
      },
      "execution_count": null,
      "outputs": []
    },
    {
      "cell_type": "markdown",
      "source": [],
      "metadata": {
        "id": "sExU66618pde"
      }
    },
    {
      "cell_type": "code",
      "source": [
        "#Que 1. Write a Python program to print \"Hello, World!_\n",
        "print(\"Hello World\")"
      ],
      "metadata": {
        "colab": {
          "base_uri": "https://localhost:8080/"
        },
        "id": "T69qCWoV86_N",
        "outputId": "df81ec47-c51c-46d6-8c3a-2fe16e8d6137"
      },
      "execution_count": null,
      "outputs": [
        {
          "output_type": "stream",
          "name": "stdout",
          "text": [
            "Hello World\n"
          ]
        }
      ]
    },
    {
      "cell_type": "code",
      "source": [
        "#Que2. Write a Python program that displays your name and age\n",
        "print(\"Bhawna Soni\")# name\n",
        "print(\"29\") #Age"
      ],
      "metadata": {
        "colab": {
          "base_uri": "https://localhost:8080/"
        },
        "id": "y7ROI5Q19XxT",
        "outputId": "1dcff87b-6edb-4c76-f48f-3f9b3b4e58ac"
      },
      "execution_count": null,
      "outputs": [
        {
          "output_type": "stream",
          "name": "stdout",
          "text": [
            "Bhawna Soni\n",
            "29\n"
          ]
        }
      ]
    },
    {
      "cell_type": "code",
      "source": [
        "#Que3. Write code to print all the pre-defined keywords in Python using the keyword library?\n",
        "print(type(\"PW SKills\")) # <class 'str'>\n",
        "print(type(25)) # <class 'int'>\n",
        "print(type(25.5)) # <class 'float'>\n",
        "print(type(True)) # <class 'bool'>\n",
        "print(type(False)) # <class 'bool'>"
      ],
      "metadata": {
        "colab": {
          "base_uri": "https://localhost:8080/"
        },
        "id": "9fD9JsQT91ZL",
        "outputId": "ee4a3064-1990-4403-a0df-f7fa1af94b14"
      },
      "execution_count": null,
      "outputs": [
        {
          "output_type": "stream",
          "name": "stdout",
          "text": [
            "<class 'str'>\n",
            "<class 'int'>\n",
            "<class 'float'>\n",
            "<class 'bool'>\n",
            "<class 'bool'>\n"
          ]
        }
      ]
    },
    {
      "cell_type": "code",
      "source": [
        "#Que4. Write a program that checks if a given word is a Python keyword.\n",
        "# if-else statement syntax:\n",
        "# if conditioncheck:\n",
        "#     do this\n",
        "#     do this\n",
        "# else:\n",
        "#     do this\n",
        "#     do this\n",
        "\n",
        "num = -100\n",
        "if num > 0:\n",
        "    print(\"Number is positive\")\n",
        "else:\n",
        "    print(\"Number is negative or zero\")"
      ],
      "metadata": {
        "colab": {
          "base_uri": "https://localhost:8080/"
        },
        "id": "tnD8cinh-qsN",
        "outputId": "b9171d3a-4016-47a3-80ca-dbf11ba421e9"
      },
      "execution_count": null,
      "outputs": [
        {
          "output_type": "stream",
          "name": "stdout",
          "text": [
            "Number is negative or zero\n"
          ]
        }
      ]
    },
    {
      "cell_type": "code",
      "source": [
        "#Que5.  Create a list and tuple in Python, and demonstrate how attempting to change an element works differently for each.\n",
        "\n",
        "# List is a collection of items of same or different data types stored in square brackets []\n",
        "\n",
        "l = [10, 19.3221, True, \"Darshan\", 324, -312]\n",
        "print(l)\n",
        "print(type(l))\n",
        "\n",
        "# Tuple is a collection of items of same or different data types stored in round brackets ()\n",
        "\n",
        "t = (10, 19.3221, True, \"Darshan\", 324, -312)\n",
        "print(t)\n",
        "print(type(t))\n",
        "\n",
        "# Tuple is Immutable i.e., we cannot change the elements of the tuple\n",
        "#t[0] = \"PW Skills\" # This line will cause an error\n",
        "#print(t)\n",
        "print(\"Tuple is immutable, so element assignment will result in an error\")\n"
      ],
      "metadata": {
        "colab": {
          "base_uri": "https://localhost:8080/"
        },
        "id": "xzRQkN_M_7Sc",
        "outputId": "bfb35e83-4ea6-4b48-8710-8df1a1606da8"
      },
      "execution_count": null,
      "outputs": [
        {
          "output_type": "stream",
          "name": "stdout",
          "text": [
            "[10, 19.3221, True, 'Darshan', 324, -312]\n",
            "<class 'list'>\n",
            "(10, 19.3221, True, 'Darshan', 324, -312)\n",
            "<class 'tuple'>\n",
            "Tuple is immutable, so element assignment will result in an error\n"
          ]
        }
      ]
    },
    {
      "cell_type": "code",
      "source": [
        "#Que6: Write a function to demonstrate the behavior of mutable and immutable arguments.\n",
        "\n",
        "# Implicit Typecasting: Bank Interest Calculation\n",
        "# Imagine a bank where interest is calculated as a float, but principal and time are integers.\n",
        "# Python automatically converts integers to float when needed.\n",
        "\n",
        "principal = 10000 # 10000 in integer\n",
        "rate_of_interest = 5.5 # 5.5 in float\n",
        "time = 2 # 2 in integer\n",
        "\n",
        "# Lets calculate the interest\n",
        "# Formula: Interest = (Principal * Rate of Interest * Time) / 100\n",
        "simple_interest = (principal * rate_of_interest * time) / 100\n",
        "print(simple_interest) # 1100.0 is of float type\n",
        "\n",
        "\n",
        "# Explicit Typecasting: Bank Interest Calculation\n",
        "# Imagine a bank where interest is calculated as a float, but principal and time are integers.\n",
        "# Python user converts integers to float when needed.\n",
        "\n",
        "principal = 10000 # 10000 in integer\n",
        "rate_of_interest = 5.5 # 5.5 in float\n",
        "time = 2 # 2 in integer\n",
        "\n",
        "# Lets calculate the interest\n",
        "# Formula: Interest = (Principal * Rate of Interest * Time) / 100\n",
        "simple_interest = (principal * rate_of_interest * time) / 100\n",
        "print(simple_interest) # 1100.0 is of float type\n",
        "# Explicit Typecasting\n",
        "simple_interest = int(simple_interest) # Typecasting float to integer - Explicit Typecasting\n",
        "print(simple_interest) # 1100 is of integer type"
      ],
      "metadata": {
        "colab": {
          "base_uri": "https://localhost:8080/"
        },
        "id": "biRtj4zTI7ZU",
        "outputId": "8e0e56a2-8ac3-4375-fd6f-eb757b85670c"
      },
      "execution_count": null,
      "outputs": [
        {
          "output_type": "stream",
          "name": "stdout",
          "text": [
            "1100.0\n",
            "1100.0\n",
            "1100\n"
          ]
        }
      ]
    },
    {
      "cell_type": "code",
      "source": [
        "#Que7: Write a function to demonstrate the behavior of mutable and immutable arguments.\n",
        "\n",
        "# Implicit Typecasting: Bank Interest Calculation\n",
        "# Imagine a bank where interest is calculated as a float, but principal and time are integers.\n",
        "# Python automatically converts integers to float when needed.\n",
        "\n",
        "principal = 10000 # 10000 in integer\n",
        "rate_of_interest = 5.5 # 5.5 in float\n",
        "time = 2 # 2 in integer\n",
        "\n",
        "# Lets calculate the interest\n",
        "# Formula: Interest = (Principal * Rate of Interest * Time) / 100\n",
        "simple_interest = (principal * rate_of_interest * time) / 100\n",
        "print(simple_interest) # 1100.0 is of float type\n",
        "\n",
        "\n",
        "# Explicit Typecasting:OTP Verification System\n",
        "# Most OTP (One-Time Password) services send numbers as strings, but we often need them as integers.\n",
        "\n",
        "sent_otp = \"678432\" # \"678432\" in string\n",
        "user_otp = \"678432\" # \"678432\" in string\n",
        "\n",
        "# Convert the OTPs to integers\n",
        "sent_otp = int(sent_otp) # Explicit Typecasting\n",
        "user_otp = int(user_otp) # Explicit Typecasting\n",
        "\n",
        "if sent_otp == user_otp:\n",
        "    print(\"OTP Verified\")\n",
        "else:\n",
        "    print(\"OTP Verification Failed\")"
      ],
      "metadata": {
        "colab": {
          "base_uri": "https://localhost:8080/"
        },
        "id": "Auy9fRH2KZ0R",
        "outputId": "9a18e999-b194-4f85-8518-09bfedef4b0c"
      },
      "execution_count": null,
      "outputs": [
        {
          "output_type": "stream",
          "name": "stdout",
          "text": [
            "1100.0\n",
            "OTP Verified\n"
          ]
        }
      ]
    },
    {
      "cell_type": "code",
      "source": [
        "#Que8-Write a program to demonstrate the use of logical operators.\n",
        "# Example 1\n",
        "# A student wants to check if he scored more than the passing marks and more than the average marks\n",
        "student_marks = 35\n",
        "passing_marks = 40\n",
        "average_marks = 60\n",
        "print(student_marks>passing_marks and student_marks>average_marks) # 35>40 and 35>60 -> False and False -> False\n",
        "\n",
        "# Example 2\n",
        "# Check if a person qualifies for a loan based on age and salary\n",
        "age = 25\n",
        "salary = 50000\n",
        "min_age = 18\n",
        "min_salary = 30000\n",
        "print(age>min_age and salary>min_salary) # 25>18 and 50000>30000 -> True and True -> True\n",
        "\n",
        "# Example 3\n",
        "# Exployees get overtime if they work more than 8 hours and it is a weekend\n",
        "hours_worked = 10\n",
        "is_weekend = True\n",
        "print(hours_worked>8 and is_weekend==True) # 10>8 and True==True -> True and True -> True\n",
        "\n",
        "print(not(True)) # False\n",
        "print(not(False)) # True\n",
        "\n",
        "\n"
      ],
      "metadata": {
        "colab": {
          "base_uri": "https://localhost:8080/"
        },
        "id": "vHmKkraJK11h",
        "outputId": "4842c2ab-07d5-40b4-fef2-e3f3da474c28"
      },
      "execution_count": null,
      "outputs": [
        {
          "output_type": "stream",
          "name": "stdout",
          "text": [
            "False\n",
            "True\n",
            "True\n",
            "False\n",
            "True\n"
          ]
        }
      ]
    },
    {
      "cell_type": "code",
      "source": [
        "#Que:9 Write a Python program to convert user input from string to integer, float, and boolean types.\n",
        "# We use the predefined functions like int(), float(), str(), etc to perform explicit typecasting.\n",
        "# Example:\n",
        "a = 5 # 5 in integer\n",
        "b = float(a)\n",
        "print(a)\n",
        "print(b)\n",
        "print(type(a)) # <class 'int'>\n",
        "print(type(b)) # <class 'float'>\n",
        "\n",
        "print()\n",
        "\n",
        "print(int(5.5)) # 5\n",
        "print(float(5)) # 5.0\n",
        "print(str(5)) # '5'\n",
        "print(bool(5)) # True\n",
        "print(bool(0)) # False\n",
        "# As per bool, 0 - False, Rest all are True"
      ],
      "metadata": {
        "colab": {
          "base_uri": "https://localhost:8080/"
        },
        "id": "lJihjK04P0A_",
        "outputId": "ee6e4e5d-5728-4118-c8aa-e9b06bfcc60f"
      },
      "execution_count": null,
      "outputs": [
        {
          "output_type": "stream",
          "name": "stdout",
          "text": [
            "5\n",
            "5.0\n",
            "<class 'int'>\n",
            "<class 'float'>\n",
            "\n",
            "5\n",
            "5.0\n",
            "5\n",
            "True\n",
            "False\n"
          ]
        }
      ]
    },
    {
      "cell_type": "code",
      "source": [
        "#Que:10 Write code to demonstrate type casting with list elements.\n",
        "# extend - It adds all the elements of the list to another list\n",
        "# Syntax: listname1.extend(listname2)\n",
        "\n",
        "# Use case: Adding all the elements of the list to another list\n",
        "l1 = [10, 20, 30]\n",
        "l2 = [40, 50, 60]\n",
        "l1.extend(l2)\n",
        "print(l1) # [10, 20, 30, 40, 50, 60]\n",
        "print(l2) # [40, 50, 60]"
      ],
      "metadata": {
        "colab": {
          "base_uri": "https://localhost:8080/"
        },
        "id": "ybrUiFY2QuoR",
        "outputId": "2088eb01-21a0-4d45-b047-fd49cd0503bf"
      },
      "execution_count": null,
      "outputs": [
        {
          "output_type": "stream",
          "name": "stdout",
          "text": [
            "[10, 20, 30, 40, 50, 60]\n",
            "[40, 50, 60]\n"
          ]
        }
      ]
    },
    {
      "cell_type": "code",
      "source": [
        "#Que:11: Write a program that checks if a number is positive, negative, or zero.\n",
        " #Take input from the user\n",
        "#number = float(input(\"Enter a number: \"))\n",
        "\n",
        "# Check if the number is positive, negative, or zero\n",
        "#if number > 0:\n",
        "    #print(\"The number is positive.\")\n",
        "#elif number < 0:\n",
        "    #print(\"The number is negative.\")\n",
        "#else:\n",
        "    #print(\"The number is zero.\")\n"
      ],
      "metadata": {
        "id": "XN_a6EZbUsqx"
      },
      "execution_count": null,
      "outputs": []
    },
    {
      "cell_type": "code",
      "source": [
        "#Que:13 : Write a Python program to find the sum of all even numbers between 1 and 500.\n",
        " #Initialize a variable to hold the sum\n",
        "sum_even_numbers = 0\n",
        "\n",
        "# Loop through all numbers between 1 and 500\n",
        "for num in range(1, 501):\n",
        "    # Check if the number is even\n",
        "    if num % 2 == 0:\n",
        "        sum_even_numbers += num\n",
        "        # Print the result\n",
        "print(\"The sum of all even numbers between 1 and 500 is:\", sum_even_numbers)\n"
      ],
      "metadata": {
        "colab": {
          "base_uri": "https://localhost:8080/"
        },
        "id": "3a982_tab6GG",
        "outputId": "1f1e697a-2c6b-4daf-cd72-83b7cd568808"
      },
      "execution_count": null,
      "outputs": [
        {
          "output_type": "stream",
          "name": "stdout",
          "text": [
            "The sum of all even numbers between 1 and 500 is: 62750\n"
          ]
        }
      ]
    },
    {
      "cell_type": "code",
      "source": [
        "#Que:14 : Write a program to reverse a string using a while loop.\n",
        "\n",
        "# Scenario: A user has 3 attempts to enter the correct password\n",
        "# If he enters the correct password, print \"Welcome to the system\"\n",
        "# If he enters the wrong password, print \"Incorrect password. Try again\"\n",
        "# If he enters the wrong password 3 times, print \"You have exceeded the number of attempts. Try again later\"\n",
        "\n",
        "correct_password = 'Bhawna@1234'\n",
        "number_of_attempts = 3\n",
        "\n",
        "while number_of_attempts > 0: # till the number of attempts is greater than 0\n",
        "    entered_password = input('Enter the password: ') # Bhawna@1234\n",
        "\n",
        "    if entered_password == correct_password: # Bhawna@1234 == Bhawna@1234 => YES\n",
        "        print('Welcome to the system') # Print this\n",
        "        break # break statement is used to come out of the loop\n",
        "    else:\n",
        "        print('Incorrect password. Try again')\n",
        "        number_of_attempts = number_of_attempts - 1 # decrement the number of attempts\n",
        "\n",
        "if number_of_attempts == 0:\n",
        "    print('You have exceeded the number of attempts. Try again later')\n",
        "\n"
      ],
      "metadata": {
        "id": "FwbEHuV2GK0g"
      },
      "execution_count": null,
      "outputs": []
    },
    {
      "cell_type": "code",
      "source": [
        "#Que:14 : Write a Python program to calculate the factorial of a number provided by the user using a while loop.\n",
        "# Get user input\n",
        "number = int(input(\"Enter a number to find its factorial: \"))\n",
        "\n",
        "# Initialize factorial and counter variables\n",
        "factorial = 1\n",
        "counter = 1\n",
        "\n",
        "# Use while loop to calculate factorial\n",
        "while counter <= number:\n",
        "    factorial *= counter\n",
        "    counter += 1\n",
        "\n",
        "# Display the result\n",
        "print(f\"The factorial of {number} is {factorial}\")"
      ],
      "metadata": {
        "id": "nZr9cX1x84BK"
      },
      "execution_count": null,
      "outputs": []
    }
  ]
}